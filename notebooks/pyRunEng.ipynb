{
 "cells": [
  {
   "cell_type": "code",
   "execution_count": 2,
   "outputs": [],
   "source": [
    "import json\n",
    "import numpy as np\n",
    "import torch\n",
    "from torch import nn\n",
    "from torch.distributions import Normal\n",
    "from torch.nn import functional as F\n",
    "from torch.optim import Adam, SGD\n",
    "import random\n",
    "from datetime import datetime\n",
    "import matlab.engine\n",
    "import json\n",
    "\n",
    "\n",
    "from numpy import random"
   ],
   "metadata": {
    "collapsed": false,
    "pycharm": {
     "name": "#%%\n"
    }
   }
  },
  {
   "cell_type": "code",
   "execution_count": 3,
   "metadata": {
    "pycharm": {
     "name": "#%%\n"
    }
   },
   "outputs": [
    {
     "data": {
      "text/plain": "'/Users/valeriytashchilin/Dropbox (Личный)/Университет/DataSpell/rl_pss/notebooks'"
     },
     "execution_count": 3,
     "metadata": {},
     "output_type": "execute_result"
    }
   ],
   "source": [
    "import matlab.engine\n",
    "\n",
    "eng = matlab.engine.start_matlab()\n",
    "eng.cd(\"../matlab_env/\")"
   ]
  },
  {
   "cell_type": "code",
   "execution_count": 11,
   "outputs": [
    {
     "name": "stdout",
     "output_type": "stream",
     "text": [
      "<matlab.object object at 0x128e5b6f0>\n",
      "CPU times: user 24.4 ms, sys: 24.9 ms, total: 49.3 ms\n",
      "Wall time: 2min 14s\n"
     ]
    }
   ],
   "source": [
    "%%time\n",
    "out = eng.simWrapper('scenariosNormState', 'IntMaxDeltaWs', 0, 4)\n",
    "print(out)"
   ],
   "metadata": {
    "collapsed": false,
    "pycharm": {
     "name": "#%%\n"
    }
   }
  },
  {
   "cell_type": "code",
   "execution_count": 54,
   "outputs": [],
   "source": [
    "with open(\"../trajectory_log.txt\", 'r') as f:\n",
    "    data = json.load(f)"
   ],
   "metadata": {
    "collapsed": false,
    "pycharm": {
     "name": "#%%\n"
    }
   }
  },
  {
   "cell_type": "code",
   "execution_count": 57,
   "outputs": [
    {
     "data": {
      "text/plain": "['t', 'action', 'pureAction', 'probability', 'reward', 'state']"
     },
     "execution_count": 57,
     "metadata": {},
     "output_type": "execute_result"
    }
   ],
   "source": [
    "[x for x in data[0]['data'][0]]"
   ],
   "metadata": {
    "collapsed": false,
    "pycharm": {
     "name": "#%%\n"
    }
   }
  },
  {
   "cell_type": "code",
   "execution_count": 52,
   "outputs": [
    {
     "data": {
      "text/plain": "torch.Size([4, 60])"
     },
     "execution_count": 52,
     "metadata": {},
     "output_type": "execute_result"
    }
   ],
   "source": [
    " torch.tensor(data['data'][0]['state'], dtype=torch.float).shape"
   ],
   "metadata": {
    "collapsed": false,
    "pycharm": {
     "name": "#%%\n"
    }
   }
  },
  {
   "cell_type": "code",
   "execution_count": 13,
   "outputs": [],
   "source": [
    "def create_trajectory(log_path: str):\n",
    "    with open(log_path, 'r') as f:\n",
    "        data = json.load(f)\n",
    "    trajectories = []\n",
    "    for exp in data:\n",
    "        traj = []\n",
    "        for ep in exp['data']:\n",
    "            state = [x[-1] for x in ep['state']]\n",
    "            traj.append((state, ep['pureAction'], ep['reward'], ep['probability'][0], ep['probability'][1]))\n",
    "        trajectories.append(traj)\n",
    "    return trajectories"
   ],
   "metadata": {
    "collapsed": false,
    "pycharm": {
     "name": "#%%\n"
    }
   }
  },
  {
   "cell_type": "code",
   "execution_count": 14,
   "outputs": [],
   "source": [
    "parse = create_trajectory(\"../trajectory_log.txt\")"
   ],
   "metadata": {
    "collapsed": false,
    "pycharm": {
     "name": "#%%\n"
    }
   }
  },
  {
   "cell_type": "code",
   "execution_count": 28,
   "outputs": [
    {
     "name": "stdout",
     "output_type": "stream",
     "text": [
      "torch.Size([1, 4, 60])\n"
     ]
    }
   ],
   "source": [
    "sample = torch.Tensor(random.random((1, 4, 60)))\n",
    "print(sample.shape)"
   ],
   "metadata": {
    "collapsed": false,
    "pycharm": {
     "name": "#%%\n"
    }
   }
  },
  {
   "cell_type": "code",
   "execution_count": 119,
   "outputs": [],
   "source": [
    "mdl3 = torch.nn.Sequential(\n",
    "    torch.nn.Conv1d(4, 8, kernel_size=3, padding=1),\n",
    "    torch.nn.ReLU(),\n",
    "    torch.nn.Conv1d(8, 8, kernel_size=3, padding=1),\n",
    "    torch.nn.ReLU(),\n",
    ")\n",
    "mdl5 = torch.nn.Sequential(\n",
    "    torch.nn.Conv1d(16, 8, kernel_size=5, padding=2),\n",
    "    torch.nn.ReLU(),\n",
    "    torch.nn.Conv1d(8, 4, kernel_size=5, padding=2),\n",
    "    torch.nn.ReLU(),\n",
    "    torch.nn.Conv1d(4, 1, kernel_size=5, padding=2),\n",
    "    torch.nn.ReLU(),\n",
    ")\n",
    "mdl11 = torch.nn.Sequential(\n",
    "    torch.nn.Conv1d(4, 8, kernel_size=11, padding=5),\n",
    "    torch.nn.ReLU(),\n",
    "    torch.nn.Conv1d(8, 8, kernel_size=11, padding=5),\n",
    "    torch.nn.ReLU(),\n",
    ")"
   ],
   "metadata": {
    "collapsed": false,
    "pycharm": {
     "name": "#%%\n"
    }
   }
  },
  {
   "cell_type": "code",
   "execution_count": 122,
   "outputs": [],
   "source": [
    "mean = torch.nn.Sequential(\n",
    "    torch.nn.Linear(60,60),\n",
    "    torch.nn.ReLU(),\n",
    "    torch.nn.Linear(60, 32),\n",
    "    torch.nn.ReLU(),\n",
    "    torch.nn.Linear(32, 16),\n",
    "    torch.nn.ReLU(),\n",
    "    torch.nn.Linear(16, 5),\n",
    "    torch.nn.ReLU(),\n",
    ")"
   ],
   "metadata": {
    "collapsed": false,
    "pycharm": {
     "name": "#%%\n"
    }
   }
  },
  {
   "cell_type": "code",
   "execution_count": 123,
   "outputs": [
    {
     "name": "stdout",
     "output_type": "stream",
     "text": [
      "torch.Size([1, 8, 60])\n",
      "torch.Size([1, 8, 60])\n",
      "torch.Size([1, 1, 60])\n",
      "torch.Size([1, 1, 5])\n"
     ]
    }
   ],
   "source": [
    "print(mdl3(sample).shape)\n",
    "print(mdl11(sample).shape)\n",
    "mdlj = torch.cat([mdl3(sample), mdl11(sample)], dim=1)\n",
    "print(mdl5(mdlj).shape)\n",
    "print(mean(mdl5(mdlj)).shape)"
   ],
   "metadata": {
    "collapsed": false,
    "pycharm": {
     "name": "#%%\n"
    }
   }
  },
  {
   "cell_type": "code",
   "execution_count": null,
   "outputs": [],
   "source": [
    "mdl5 = torch.nn.Sequential(\n",
    "    torch.nn.Conv1d(16, 8, kernel_size=5, padding=2),\n",
    "    torch.nn.ReLU(),\n",
    "    torch.nn.Conv1d(8, 4, kernel_size=5, padding=2),\n",
    "    torch.nn.ReLU(),\n",
    ")"
   ],
   "metadata": {
    "collapsed": false,
    "pycharm": {
     "name": "#%%\n"
    }
   }
  },
  {
   "cell_type": "code",
   "execution_count": 10,
   "outputs": [],
   "source": [
    "request = eng.simWrapper('scenarios_NormalStates', 'IntMaxDeltaWs', 1.0e+06, 1, \"./log/\")"
   ],
   "metadata": {
    "collapsed": false,
    "pycharm": {
     "name": "#%%\n"
    }
   }
  },
  {
   "cell_type": "code",
   "execution_count": 6,
   "outputs": [],
   "source": [
    "state = [\n",
    "                    [\n",
    "                        -1.9039514145280378e-06,\n",
    "                        -4.0928658759931125e-06,\n",
    "                        -6.424786834435814e-06,\n",
    "                        -8.860646267594419e-06,\n",
    "                        -1.1386608815833199e-05,\n",
    "                        -1.4010149231746816e-05,\n",
    "                        -1.67363316637692e-05,\n",
    "                        -1.960104687470654e-05,\n",
    "                        -2.2592880795979653e-05,\n",
    "                        -2.5740776053106984e-05,\n",
    "                        -2.902194123610702e-05,\n",
    "                        -3.2435045792866823e-05,\n",
    "                        -3.5962895716612486e-05,\n",
    "                        -3.9596787140938616e-05,\n",
    "                        -4.330800965035575e-05,\n",
    "                        -4.70820504697711e-05,\n",
    "                        -5.0897279270989415e-05,\n",
    "                        -5.473697672220279e-05,\n",
    "                        -5.8580339808544934e-05,\n",
    "                        -6.240785492361844e-05,\n",
    "                        -6.620671117341104e-05,\n",
    "                        -6.996008011350696e-05,\n",
    "                        -7.365422516181219e-05,\n",
    "                        -7.727587052352991e-05,\n",
    "                        -8.081897545242356e-05,\n",
    "                        -8.425236813625059e-05,\n",
    "                        -8.75829576748588e-05,\n",
    "                        -9.080874832001484e-05,\n",
    "                        -9.389309286622627e-05,\n",
    "                        -9.68494033002365e-05,\n",
    "                        -9.968263663429067e-05,\n",
    "                        -0.00010234836624933852,\n",
    "                        -0.00010487594660979482,\n",
    "                        -0.0001072519028590957,\n",
    "                        -0.00010946798768274313,\n",
    "                        -0.0001115282566777065,\n",
    "                        -0.00011343385105733184,\n",
    "                        -0.00011518568798629669,\n",
    "                        -0.00011675732733007482,\n",
    "                        -0.0001181698319431268,\n",
    "                        -0.00011942471245474096,\n",
    "                        -0.0001205240575822275,\n",
    "                        -0.00012147049036581592,\n",
    "                        -0.00012226712465990275,\n",
    "                        -0.00012291752293636105,\n",
    "                        -0.0001234256551647661,\n",
    "                        -0.0001237958594227928,\n",
    "                        -0.0001240328040873484,\n",
    "                        -0.00012414145193451187,\n",
    "                        -0.0001241270260698979,\n",
    "                        -0.00012399497776405255,\n",
    "                        -0.00012375095616234955,\n",
    "                        -0.00012340077976480401,\n",
    "                        -0.0001229504096735834,\n",
    "                        -0.00012240592438983455,\n",
    "                        -0.00012177349616693256,\n",
    "                        -0.00012105936865136613,\n",
    "                        -0.00012026983580837314,\n",
    "                        -0.00011941122186631681,\n",
    "                        -0.00011848986225826419\n",
    "                    ],\n",
    "                    [\n",
    "                        -2.4567431732291922e-06,\n",
    "                        -5.076425016570241e-06,\n",
    "                        -7.686777443671744e-06,\n",
    "                        -1.0229482384715993e-05,\n",
    "                        -1.2680228293815432e-05,\n",
    "                        -1.5038689132884642e-05,\n",
    "                        -1.732208473159691e-05,\n",
    "                        -1.9532892685636405e-05,\n",
    "                        -2.169765492365805e-05,\n",
    "                        -2.382114544130509e-05,\n",
    "                        -2.5920702879211888e-05,\n",
    "                        -2.800359742360925e-05,\n",
    "                        -3.0076979340099008e-05,\n",
    "                        -3.214585676258874e-05,\n",
    "                        -3.421476578258087e-05,\n",
    "                        -3.628722352932989e-05,\n",
    "                        -3.836604340123895e-05,\n",
    "                        -4.045522483286934e-05,\n",
    "                        -4.255500091332465e-05,\n",
    "                        -4.4671093431092324e-05,\n",
    "                        -4.680167015369552e-05,\n",
    "                        -4.89488977446495e-05,\n",
    "                        -5.111305543936684e-05,\n",
    "                        -5.3293898600981215e-05,\n",
    "                        -5.5489472027381304e-05,\n",
    "                        -5.770090566747932e-05,\n",
    "                        -5.99230022900743e-05,\n",
    "                        -6.215259766517711e-05,\n",
    "                        -6.438695191224308e-05,\n",
    "                        -6.662054095862846e-05,\n",
    "                        -6.884942743790035e-05,\n",
    "                        -7.106555895242117e-05,\n",
    "                        -7.326571373400537e-05,\n",
    "                        -7.544299295370038e-05,\n",
    "                        -7.758993470163844e-05,\n",
    "                        -7.970139391855202e-05,\n",
    "                        -8.177195190894881e-05,\n",
    "                        -8.379624542487196e-05,\n",
    "                        -8.575873391725164e-05,\n",
    "                        -8.765972726831883e-05,\n",
    "                        -8.949367947042042e-05,\n",
    "                        -9.125543632471089e-05,\n",
    "                        -9.294028600337345e-05,\n",
    "                        -9.454400208364078e-05,\n",
    "                        -9.606287726993123e-05,\n",
    "                        -9.749374947254363e-05,\n",
    "                        -9.883401882571086e-05,\n",
    "                        -0.00010008165748243147,\n",
    "                        -0.00010123521112148648,\n",
    "                        -0.00010229379406145878,\n",
    "                        -0.00010325707725289401,\n",
    "                        -0.00010412527099357138,\n",
    "                        -0.00010489910194566576,\n",
    "                        -0.00010557978615266528,\n",
    "                        -0.00010616899790105716,\n",
    "                        -0.00010666883590260134,\n",
    "                        -0.0001070817868598084,\n",
    "                        -0.00010741068761843664,\n",
    "                        -0.00010765868613005214,\n",
    "                        -0.00010782920213947556\n",
    "                    ],\n",
    "                    [\n",
    "                        -6.209446635652149e-06,\n",
    "                        -1.2848384906782861e-05,\n",
    "                        -1.944404165210578e-05,\n",
    "                        -2.575348019051571e-05,\n",
    "                        -3.1660976904435145e-05,\n",
    "                        -3.713650722303452e-05,\n",
    "                        -4.222766580386228e-05,\n",
    "                        -4.689499468291114e-05,\n",
    "                        -5.1236067880933156e-05,\n",
    "                        -5.521215631831833e-05,\n",
    "                        -5.888846530943681e-05,\n",
    "                        -6.22545303800015e-05,\n",
    "                        -6.531961501243799e-05,\n",
    "                        -6.805203507287416e-05,\n",
    "                        -7.047898120648988e-05,\n",
    "                        -7.257555330930643e-05,\n",
    "                        -7.435408988620829e-05,\n",
    "                        -7.577505142897234e-05,\n",
    "                        -7.691072419013789e-05,\n",
    "                        -7.768654824991117e-05,\n",
    "                        -7.819445463519425e-05,\n",
    "                        -7.843320016076571e-05,\n",
    "                        -7.843050353262271e-05,\n",
    "                        -7.82149835406587e-05,\n",
    "                        -7.78283748993358e-05,\n",
    "                        -7.727276288038709e-05,\n",
    "                        -7.661060817676368e-05,\n",
    "                        -7.58744699025371e-05,\n",
    "                        -7.508410408185728e-05,\n",
    "                        -7.428045600688105e-05,\n",
    "                        -7.348723458466822e-05,\n",
    "                        -7.273882065594872e-05,\n",
    "                        -7.204924700188187e-05,\n",
    "                        -7.14413655077406e-05,\n",
    "                        -7.093554731973928e-05,\n",
    "                        -7.05409704367943e-05,\n",
    "                        -7.026536126042426e-05,\n",
    "                        -7.01140698183833e-05,\n",
    "                        -7.011341497964452e-05,\n",
    "                        -7.024762673124574e-05,\n",
    "                        -7.05149259029314e-05,\n",
    "                        -7.091139004344882e-05,\n",
    "                        -7.143127123765414e-05,\n",
    "                        -7.20673191549892e-05,\n",
    "                        -7.281109924461848e-05,\n",
    "                        -7.365330009945215e-05,\n",
    "                        -7.458402201010461e-05,\n",
    "                        -7.559304311421933e-05,\n",
    "                        -7.66700575599577e-05,\n",
    "                        -7.780488443043243e-05,\n",
    "                        -7.898764420988247e-05,\n",
    "                        -8.02089036081588e-05,\n",
    "                        -8.145978763418604e-05,\n",
    "                        -8.273206136866218e-05,\n",
    "                        -8.401818203218614e-05,\n",
    "                        -8.531132490829929e-05,\n",
    "                        -8.66053849472026e-05,\n",
    "                        -8.789495816952098e-05,\n",
    "                        -8.917530543461893e-05,\n",
    "                        -9.04423027533463e-05\n",
    "                    ],\n",
    "                    [\n",
    "                        -8.148833542720446e-06,\n",
    "                        -1.63855332173668e-05,\n",
    "                        -2.372790052307394e-05,\n",
    "                        -2.986525598158707e-05,\n",
    "                        -3.472761194112106e-05,\n",
    "                        -3.8391974488849456e-05,\n",
    "                        -4.108570096716946e-05,\n",
    "                        -4.281948297590876e-05,\n",
    "                        -4.392267053887622e-05,\n",
    "                        -4.4445649519331276e-05,\n",
    "                        -4.462742865540825e-05,\n",
    "                        -4.458002468032962e-05,\n",
    "                        -4.441968469537372e-05,\n",
    "                        -4.423668760744626e-05,\n",
    "                        -4.4101554711573066e-05,\n",
    "                        -4.406992335426185e-05,\n",
    "                        -4.4173574337391663e-05,\n",
    "                        -4.445782609285853e-05,\n",
    "                        -4.490044236726831e-05,\n",
    "                        -4.555383140536495e-05,\n",
    "                        -4.636921015954698e-05,\n",
    "                        -4.7348828880910965e-05,\n",
    "                        -4.847513356576183e-05,\n",
    "                        -4.9728351884326116e-05,\n",
    "                        -5.108029629530275e-05,\n",
    "                        -5.2523801166382e-05,\n",
    "                        -5.401862316911643e-05,\n",
    "                        -5.5542865303070954e-05,\n",
    "                        -5.707719951675294e-05,\n",
    "                        -5.859817841202819e-05,\n",
    "                        -6.009247655502925e-05,\n",
    "                        -6.153349074244918e-05,\n",
    "                        -6.29195859134235e-05,\n",
    "                        -6.423824177259618e-05,\n",
    "                        -6.548080277779533e-05,\n",
    "                        -6.664729285754678e-05,\n",
    "                        -6.773875101162563e-05,\n",
    "                        -6.875806131356743e-05,\n",
    "                        -6.969874639939366e-05,\n",
    "                        -7.057747406624681e-05,\n",
    "                        -7.140302034724932e-05,\n",
    "                        -7.218528450270156e-05,\n",
    "                        -7.293489008897147e-05,\n",
    "                        -7.366280061171793e-05,\n",
    "                        -7.437995781967022e-05,\n",
    "                        -7.509695222285284e-05,\n",
    "                        -7.582373040559975e-05,\n",
    "                        -7.656934540412053e-05,\n",
    "                        -7.73417513272312e-05,\n",
    "                        -7.81476453138863e-05,\n",
    "                        -7.899235506803048e-05,\n",
    "                        -7.987977232182253e-05,\n",
    "                        -8.081232819745487e-05,\n",
    "                        -8.179100869731837e-05,\n",
    "                        -8.281540479460059e-05,\n",
    "                        -8.388379393275969e-05,\n",
    "                        -8.499324668753694e-05,\n",
    "                        -8.613975466942314e-05,\n",
    "                        -8.73183734074745e-05,\n",
    "                        -8.852337617237804e-05\n",
    "                    ]\n",
    "                ]"
   ],
   "metadata": {
    "collapsed": false,
    "pycharm": {
     "name": "#%%\n"
    }
   }
  },
  {
   "cell_type": "code",
   "execution_count": 30,
   "outputs": [],
   "source": [
    "class Actor(nn.Module):\n",
    "    def __init__(self, action_dim, action_scaler):\n",
    "        super().__init__()\n",
    "        # Advice: use same log_sigma for all states to improve stability\n",
    "        # You can do this by defining log_sigma as nn.Parameter(torch.zeros(...))\n",
    "        self.short_window = torch.nn.Sequential(\n",
    "            torch.nn.Conv1d(4, 8, kernel_size=3, padding=1),\n",
    "            torch.nn.ReLU(),\n",
    "            torch.nn.Conv1d(8, 8, kernel_size=3, padding=1),\n",
    "            torch.nn.ReLU(),\n",
    "        )\n",
    "        self.agg_window = torch.nn.Sequential(\n",
    "            torch.nn.Conv1d(16, 8, kernel_size=5, padding=2),\n",
    "            torch.nn.ReLU(),\n",
    "            torch.nn.Conv1d(8, 4, kernel_size=5, padding=2),\n",
    "            torch.nn.ReLU(),\n",
    "            torch.nn.Conv1d(4, 1, kernel_size=5, padding=2),\n",
    "            torch.nn.ReLU(),\n",
    "        )\n",
    "        self.long_window = torch.nn.Sequential(\n",
    "            torch.nn.Conv1d(4, 8, kernel_size=11, padding=5),\n",
    "            torch.nn.ReLU(),\n",
    "            torch.nn.Conv1d(8, 8, kernel_size=11, padding=5),\n",
    "            torch.nn.ReLU(),\n",
    "        )\n",
    "        self.mean = torch.nn.Sequential(\n",
    "            torch.nn.Linear(60, 60),\n",
    "            torch.nn.ReLU(),\n",
    "            torch.nn.Linear(60, 32),\n",
    "            torch.nn.ReLU(),\n",
    "            torch.nn.Linear(32, 16),\n",
    "            torch.nn.ReLU(),\n",
    "            torch.nn.Linear(16, action_dim),\n",
    "            torch.nn.ReLU(),\n",
    "        )\n",
    "        # self.sigma = nn.Sequential(\n",
    "        #     nn.Linear(256, action_dim),\n",
    "        #     nn.ELU()\n",
    "        # )\n",
    "        self.action_scaler = action_scaler\n",
    "        self.sigma = nn.Parameter(torch.zeros(action_dim))\n",
    "\n",
    "    def compute_proba(self, state, action):\n",
    "        # Returns probability of action according to current policy and distribution of actions\n",
    "        _, pa, distribution = self.act(state)\n",
    "        proba = distribution.log_prob(action).sum(-1)\n",
    "        return proba, distribution\n",
    "\n",
    "    def act(self, state):\n",
    "        # Returns an action (with tanh), not-transformed action (without tanh) and distribution of non-transformed actions\n",
    "        # Remember: agent is not deterministic, sample actions from distribution (e.g. Gaussian)\n",
    "        short_rep = self.short_window(state)\n",
    "        long_rep = self.long_window(state)\n",
    "        latent = self.agg_window(torch.cat([short_rep, long_rep], dim=0))\n",
    "        mean = self.mean(latent)\n",
    "        # sigma = torch.exp(-self.sigma(latent))\n",
    "        sigma = torch.exp(self.sigma)\n",
    "        distribution = Normal(mean, sigma)\n",
    "        action = distribution.sample()\n",
    "        tanh_action = torch.sigmoid(action) * self.action_scaler\n",
    "        # tanh_action = torch.sigmoid(action)\n",
    "        return tanh_action, action, distribution\n",
    "\n",
    "\n",
    "class Critic(nn.Module):\n",
    "    def __init__(self):\n",
    "        super().__init__()\n",
    "        self.short_window = torch.nn.Sequential(\n",
    "            torch.nn.Conv1d(4, 8, kernel_size=3, padding=1),\n",
    "            torch.nn.ReLU(),\n",
    "            torch.nn.Conv1d(8, 8, kernel_size=3, padding=1),\n",
    "            torch.nn.ReLU(),\n",
    "        )\n",
    "        self.agg_window = torch.nn.Sequential(\n",
    "            torch.nn.Conv1d(16, 8, kernel_size=5, padding=2),\n",
    "            torch.nn.ReLU(),\n",
    "            torch.nn.Conv1d(8, 4, kernel_size=5, padding=2),\n",
    "            torch.nn.ReLU(),\n",
    "            torch.nn.Conv1d(4, 1, kernel_size=5, padding=2),\n",
    "            torch.nn.ReLU(),\n",
    "        )\n",
    "        self.long_window = torch.nn.Sequential(\n",
    "            torch.nn.Conv1d(4, 8, kernel_size=11, padding=5),\n",
    "            torch.nn.ReLU(),\n",
    "            torch.nn.Conv1d(8, 8, kernel_size=11, padding=5),\n",
    "            torch.nn.ReLU(),\n",
    "        )\n",
    "        self.mean = torch.nn.Sequential(\n",
    "            torch.nn.Linear(60, 60),\n",
    "            torch.nn.ReLU(),\n",
    "            torch.nn.Linear(60, 32),\n",
    "            torch.nn.ReLU(),\n",
    "            torch.nn.Linear(32, 16),\n",
    "            torch.nn.ReLU(),\n",
    "            torch.nn.Linear(16, 1),\n",
    "            torch.nn.ReLU(),\n",
    "        )\n",
    "\n",
    "    def get_value(self, state):\n",
    "        short_rep = self.short_window(state)\n",
    "        long_rep = self.long_window(state)\n",
    "        latent = self.agg_window(torch.cat([short_rep, long_rep], dim=0))\n",
    "        return self.mean(latent)\n",
    "\n",
    "\n",
    "class PPO:\n",
    "    def __init__(self, action_scaler, action_dim, device='cpu'):\n",
    "        self.device = device\n",
    "        self.actor = Actor(action_dim, action_scaler).to(self.device)\n",
    "        self.critic = Critic().to(self.device)\n",
    "        self.actor_optim = Adam(self.actor.parameters(), ACTOR_LR, amsgrad=True)\n",
    "        self.critic_optim = Adam(self.critic.parameters(), CRITIC_LR, amsgrad=True)\n",
    "\n",
    "        # self.actor_scheduler = torch.optim.lr_scheduler.CyclicLR(self.actor_optim, base_lr=1e-3,\n",
    "        #                                                          max_lr=1e-2, step_size_up=100, mode='triangular2',\n",
    "        #                                                          cycle_momentum=False)\n",
    "        # self.critic_scheduler = torch.optim.lr_scheduler.CyclicLR(self.critic_optim, base_lr=5e-4,\n",
    "        #                                                           max_lr=5e-3, step_size_up=100, mode='triangular2',\n",
    "        #                                                           cycle_momentum=False)\n",
    "\n",
    "    def update(self, trajectories):\n",
    "        transitions = [t for traj in trajectories for t in traj]  # Turn a list of trajectories into list of transitions\n",
    "        state, action, old_prob, target_value, advantage = zip(*transitions)\n",
    "        state = torch.FloatTensor(np.array(state)).to(self.device)\n",
    "        action = torch.FloatTensor(np.array(action)).to(self.device)\n",
    "        old_prob = torch.FloatTensor(np.array(old_prob)).to(self.device)\n",
    "        target_value = torch.FloatTensor(np.array(target_value)).to(self.device)\n",
    "        advantage = np.array(advantage)\n",
    "        advantage = torch.FloatTensor((advantage - advantage.mean()) / (advantage.std() + 1e-8)).to(self.device)\n",
    "\n",
    "        for _ in range(BATCHES_PER_UPDATE):\n",
    "            # idx = np.random.randint(0, len(transitions), BATCH_SIZE)  # Choose random batch\n",
    "            idx = torch.randint(0, len(transitions), (BATCH_SIZE,)).to(self.device)\n",
    "            s = state[idx]\n",
    "            a = action[idx]\n",
    "            op = old_prob[idx]      # Probability of the action in state s.t. old policy\n",
    "            v = target_value[idx]   # Estimated by lambda-returns\n",
    "            adv = advantage[idx]    # Estimated by generalized advantage estimation\n",
    "\n",
    "            #Update actor here\n",
    "            log_prob, distribution = self.actor.compute_proba(s, a)\n",
    "            ratio = torch.exp(log_prob - op)\n",
    "            surr1 = ratio * adv\n",
    "            surr2 = torch.clamp(ratio, 1 - CLIP, 1 + CLIP) * adv\n",
    "            actor_loss = (-torch.min(surr1, surr2)).mean() - ENTROPY_COEF * distribution.entropy().mean()\n",
    "            self.actor_optim.zero_grad()\n",
    "            actor_loss.backward()\n",
    "            self.actor_optim.step()\n",
    "\n",
    "            #Update critic here\n",
    "            critic_value = self.critic.get_value(s)\n",
    "            critic_loss = nn.MSELoss()(critic_value.squeeze(-1), v)\n",
    "            self.critic_optim.zero_grad()\n",
    "            critic_loss.backward()\n",
    "            self.critic_optim.step()\n",
    "\n",
    "        # self.critic_scheduler.step()\n",
    "        # self.actor_scheduler.step()\n",
    "\n",
    "    def get_value(self, state):\n",
    "        with torch.no_grad():\n",
    "            state.to(self.device)\n",
    "            value = self.critic.get_value(state)\n",
    "        return value.item()\n",
    "\n",
    "    def act(self, state):\n",
    "        with torch.no_grad():\n",
    "            state.to(self.device)\n",
    "            action, pure_action, distr = self.actor.act(state)\n",
    "            log_prob = distr.log_prob(pure_action).sum(-1)\n",
    "            # log_prob = distr.log_prob(pure_action)\n",
    "        return action, pure_action, log_prob\n",
    "\n",
    "    def save(self, name=\"agent.pkl\"):\n",
    "        torch.save(self.actor.state_dict(), name)\n",
    "        torch.save(self.critic.state_dict(), 'critic_' + name)\n",
    "\n",
    "    def load(self, name=\"agent.pkl\"):\n",
    "        self.actor.load_state_dict(torch.load(name))\n",
    "        self.critic.load_state_dict(torch.load('critic_' + name))\n",
    "        self.actor.eval()\n",
    "        self.critic.eval()\n",
    "        self.actor.to(self.device)\n",
    "        self.critic.to(self.device)\n",
    "\n",
    "    def perform(self):\n",
    "        self.actor.to('cpu')\n",
    "        self.critic.to('cpu')\n",
    "        self.actor.eval()\n",
    "        self.critic.eval()\n",
    "\n",
    "    def train_(self):\n",
    "        self.actor.to(self.device)\n",
    "        self.critic.to(self.device)\n",
    "        self.actor.train()\n",
    "        self.critic.train()\n",
    "\n"
   ],
   "metadata": {
    "collapsed": false,
    "pycharm": {
     "name": "#%%\n"
    }
   }
  },
  {
   "cell_type": "code",
   "execution_count": 37,
   "outputs": [],
   "source": [
    "agent = PPO(torch.tensor([40, 0.1, 0.1, 1, 1]), 5)"
   ],
   "metadata": {
    "collapsed": false,
    "pycharm": {
     "name": "#%%\n"
    }
   }
  },
  {
   "cell_type": "code",
   "execution_count": 35,
   "outputs": [],
   "source": [
    "state_t = torch.tensor(state, dtype=torch.float)"
   ],
   "metadata": {
    "collapsed": false,
    "pycharm": {
     "name": "#%%\n"
    }
   }
  },
  {
   "cell_type": "code",
   "execution_count": 54,
   "outputs": [
    {
     "data": {
      "text/plain": "(tensor([[10.9163,  0.0632,  0.0250,  0.2934,  0.4641]]),\n tensor([[-0.9799,  0.5412, -1.1007, -0.8789, -0.1437]]),\n tensor([-6.4585]))"
     },
     "execution_count": 54,
     "metadata": {},
     "output_type": "execute_result"
    }
   ],
   "source": [
    "agent.act(state_t)"
   ],
   "metadata": {
    "collapsed": false,
    "pycharm": {
     "name": "#%%\n"
    }
   }
  }
 ],
 "metadata": {
  "kernelspec": {
   "display_name": "Python 3.9.12 64-bit (system)",
   "language": "python",
   "name": "python3"
  },
  "language_info": {
   "codemirror_mode": {
    "name": "ipython",
    "version": 3
   },
   "file_extension": ".py",
   "mimetype": "text/x-python",
   "name": "python",
   "nbconvert_exporter": "python",
   "pygments_lexer": "ipython3",
   "version": "3.9.12"
  },
  "orig_nbformat": 4,
  "vscode": {
   "interpreter": {
    "hash": "11938c6bc6919ae2720b4d5011047913343b08a43b18698fd82dedb0d4417594"
   }
  }
 },
 "nbformat": 4,
 "nbformat_minor": 2
}